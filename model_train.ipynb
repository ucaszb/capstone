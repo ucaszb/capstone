{
 "cells": [
  {
   "cell_type": "code",
   "execution_count": 1,
   "metadata": {},
   "outputs": [
    {
     "name": "stderr",
     "output_type": "stream",
     "text": [
      "/home/ubuntu/anaconda3/envs/tensorflow_p36/lib/python3.6/site-packages/matplotlib/__init__.py:962: UserWarning: Duplicate key in file \"/home/ubuntu/.config/matplotlib/matplotlibrc\", line #2\n",
      "  (fname, cnt))\n",
      "/home/ubuntu/anaconda3/envs/tensorflow_p36/lib/python3.6/site-packages/matplotlib/__init__.py:962: UserWarning: Duplicate key in file \"/home/ubuntu/.config/matplotlib/matplotlibrc\", line #3\n",
      "  (fname, cnt))\n",
      "/home/ubuntu/anaconda3/envs/tensorflow_p36/lib/python3.6/site-packages/h5py/__init__.py:36: FutureWarning: Conversion of the second argument of issubdtype from `float` to `np.floating` is deprecated. In future, it will be treated as `np.float64 == np.dtype(float).type`.\n",
      "  from ._conv import register_converters as _register_converters\n",
      "Using TensorFlow backend.\n"
     ]
    }
   ],
   "source": [
    "import os\n",
    "import numpy as np\n",
    "import pandas as pd\n",
    "import model as m\n",
    "from tqdm import tqdm\n",
    "from keras.models import *\n",
    "from keras.layers import *\n",
    "from keras.optimizers import *\n",
    "from keras.applications import *\n",
    "from keras.preprocessing.image import *\n",
    "\n",
    "basedir = './imgs/'\n",
    "df = pd.read_csv('driver_imgs_list.csv')\n",
    "driver_list = list(df['subject'].unique())"
   ]
  },
  {
   "cell_type": "markdown",
   "metadata": {},
   "source": [
    "# 分离训练集验证集"
   ]
  },
  {
   "cell_type": "code",
   "execution_count": 2,
   "metadata": {
    "collapsed": true
   },
   "outputs": [],
   "source": [
    "for i in range(5):\n",
    "    m.train_valid_split(basedir, i+1, df, driver_list, driver_list[5*i: 5*i+3])"
   ]
  },
  {
   "cell_type": "markdown",
   "metadata": {},
   "source": [
    "# ResNet50"
   ]
  },
  {
   "cell_type": "code",
   "execution_count": 2,
   "metadata": {},
   "outputs": [
    {
     "name": "stdout",
     "output_type": "stream",
     "text": [
      "Found 79726 images belonging to 1 classes.\n"
     ]
    }
   ],
   "source": [
    "from keras.applications.resnet50 import preprocess_input\n",
    "from keras import backend as K\n",
    "K.clear_session()\n",
    "\n",
    "# 模型参数\n",
    "model_image_size = (240, 320)\n",
    "batch_size = 32\n",
    "epoch = 1\n",
    "model_name = ResNet50\n",
    "fune_tune_layer = 0\n",
    "\n",
    "\n",
    "# 图片生成器\n",
    "train_gen = ImageDataGenerator(\n",
    "    preprocessing_function=preprocess_input,\n",
    "    rotation_range=10.,\n",
    "    width_shift_range=0.1,\n",
    "    height_shift_range=0.1,\n",
    "    shear_range=0.1,\n",
    "    zoom_range=0.1,\n",
    "    channel_shift_range=10.)\n",
    "gen = ImageDataGenerator(preprocessing_function=preprocess_input)\n",
    "\n",
    "test_generator, steps_test_sample = m.test_gen(gen, basedir, model_image_size, batch_size)"
   ]
  },
  {
   "cell_type": "code",
   "execution_count": 4,
   "metadata": {},
   "outputs": [
    {
     "name": "stdout",
     "output_type": "stream",
     "text": [
      "Found 20000 images belonging to 10 classes.\n",
      "Found 2424 images belonging to 10 classes.\n",
      "Epoch 1/1\n",
      "313/313 [==============================] - 441s 1s/step - loss: 0.3925 - acc: 0.8740 - val_loss: 0.6859 - val_acc: 0.7438\n",
      "Epoch 1/1\n",
      "313/313 [==============================] - 443s 1s/step - loss: 0.0458 - acc: 0.9879 - val_loss: 0.2576 - val_acc: 0.9109\n",
      "2492/2492 [==============================] - 1085s 435ms/step\n",
      "Found 18728 images belonging to 10 classes.\n",
      "Found 3696 images belonging to 10 classes.\n",
      "Epoch 1/1\n",
      "293/293 [==============================] - 437s 1s/step - loss: 0.4368 - acc: 0.8643 - val_loss: 0.2395 - val_acc: 0.9340\n",
      "Epoch 1/1\n",
      "293/293 [==============================] - 437s 1s/step - loss: 0.0444 - acc: 0.9875 - val_loss: 0.2112 - val_acc: 0.9435\n",
      "2492/2492 [==============================] - 1089s 437ms/step\n",
      "Found 20577 images belonging to 10 classes.\n",
      "Found 1847 images belonging to 10 classes.\n",
      "Epoch 1/1\n",
      "322/322 [==============================] - 452s 1s/step - loss: 0.3730 - acc: 0.8873 - val_loss: 0.3289 - val_acc: 0.9139\n",
      "Epoch 1/1\n",
      "322/322 [==============================] - 453s 1s/step - loss: 0.0485 - acc: 0.9873 - val_loss: 0.1589 - val_acc: 0.9437\n",
      "2492/2492 [==============================] - 1092s 438ms/step\n",
      "Found 19703 images belonging to 10 classes.\n",
      "Found 2721 images belonging to 10 classes.\n",
      "Epoch 1/1\n",
      "308/308 [==============================] - 451s 1s/step - loss: 0.3894 - acc: 0.8774 - val_loss: 0.4227 - val_acc: 0.8817\n",
      "Epoch 1/1\n",
      "308/308 [==============================] - 451s 1s/step - loss: 0.0396 - acc: 0.9897 - val_loss: 0.3352 - val_acc: 0.9166\n",
      "2492/2492 [==============================] - 1095s 440ms/step\n",
      "Found 19761 images belonging to 10 classes.\n",
      "Found 2663 images belonging to 10 classes.\n",
      "Epoch 1/1\n",
      "309/309 [==============================] - 454s 1s/step - loss: 0.3802 - acc: 0.8766 - val_loss: 0.7274 - val_acc: 0.7743\n",
      "Epoch 1/1\n",
      "309/309 [==============================] - 456s 1s/step - loss: 0.0442 - acc: 0.9886 - val_loss: 0.3953 - val_acc: 0.8930\n",
      "2492/2492 [==============================] - 1100s 441ms/step\n"
     ]
    },
    {
     "ename": "AttributeError",
     "evalue": "module 'model' has no attribute 'submission_clip'",
     "output_type": "error",
     "traceback": [
      "\u001b[0;31m---------------------------------------------------------------------------\u001b[0m",
      "\u001b[0;31mAttributeError\u001b[0m                            Traceback (most recent call last)",
      "\u001b[0;32m<ipython-input-4-c879a8c4c414>\u001b[0m in \u001b[0;36m<module>\u001b[0;34m()\u001b[0m\n\u001b[1;32m     15\u001b[0m \u001b[0mresults\u001b[0m \u001b[0;34m=\u001b[0m \u001b[0mresults\u001b[0m \u001b[0;34m/\u001b[0m \u001b[0;36m5.\u001b[0m\u001b[0;34m\u001b[0m\u001b[0m\n\u001b[1;32m     16\u001b[0m \u001b[0mm\u001b[0m\u001b[0;34m.\u001b[0m\u001b[0msubmission\u001b[0m\u001b[0;34m(\u001b[0m\u001b[0mdf\u001b[0m\u001b[0;34m,\u001b[0m \u001b[0mresults\u001b[0m\u001b[0;34m,\u001b[0m \u001b[0;34m'ResNet50merge.csv'\u001b[0m\u001b[0;34m)\u001b[0m\u001b[0;34m\u001b[0m\u001b[0m\n\u001b[0;32m---> 17\u001b[0;31m \u001b[0mm\u001b[0m\u001b[0;34m.\u001b[0m\u001b[0msubmission_clip\u001b[0m\u001b[0;34m(\u001b[0m\u001b[0mdf\u001b[0m\u001b[0;34m,\u001b[0m \u001b[0mresults\u001b[0m\u001b[0;34m,\u001b[0m \u001b[0;34m'ResNet50merge_clip.csv'\u001b[0m\u001b[0;34m)\u001b[0m\u001b[0;34m\u001b[0m\u001b[0m\n\u001b[0m",
      "\u001b[0;31mAttributeError\u001b[0m: module 'model' has no attribute 'submission_clip'"
     ]
    }
   ],
   "source": [
    "# 模型训练和预测\n",
    "df = pd.read_csv(\"sample_submission.csv\")\n",
    "results = np.zeros((79726, 10))\n",
    "for i in range(1,6):\n",
    "    train_generator, valid_generator, steps_train_sample, steps_valid_sample \\\n",
    "    = m.tv_gen(i, train_gen, gen, basedir, model_image_size, batch_size)\n",
    "    \n",
    "    model = m.build_model(model_name, model_image_size, fune_tune_layer)\n",
    "    optimizer = Adam(lr=1e-4)\n",
    "    m.train_model(model, optimizer, epoch, train_generator, valid_generator, steps_train_sample//2, steps_valid_sample)\n",
    "    optimizer = Adam(lr=1e-5)\n",
    "    m.train_model(model, optimizer, epoch, train_generator, valid_generator, steps_train_sample//2, steps_valid_sample)\n",
    "    model.save('ResNet50_' + str(i) + '.h5')\n",
    "    result = m.predict_model(model, test_generator, steps_test_sample)\n",
    "    m.submission(df, result, 'ResNet50_' + str(i) + '.csv')\n",
    "    results += result\n",
    "results = results / 5.\n",
    "m.submission(df, results, 'ResNet50merge.csv')"
   ]
  },
  {
   "cell_type": "markdown",
   "metadata": {},
   "source": [
    "# Xception"
   ]
  },
  {
   "cell_type": "code",
   "execution_count": 3,
   "metadata": {},
   "outputs": [
    {
     "name": "stdout",
     "output_type": "stream",
     "text": [
      "Found 79726 images belonging to 1 classes.\n"
     ]
    }
   ],
   "source": [
    "from keras.applications.xception import preprocess_input\n",
    "from keras import backend as K\n",
    "K.clear_session()\n",
    "\n",
    "# 模型参数\n",
    "model_image_size = (330, 440)\n",
    "batch_size = 16\n",
    "epoch = 1\n",
    "model_name = Xception\n",
    "fune_tune_layer = 0\n",
    "\n",
    "# 图片生成器\n",
    "train_gen = ImageDataGenerator(\n",
    "    preprocessing_function=preprocess_input,\n",
    "    rotation_range=10.,\n",
    "    width_shift_range=0.1,\n",
    "    height_shift_range=0.1,\n",
    "    shear_range=0.1,\n",
    "    zoom_range=0.1,\n",
    "    channel_shift_range=10.)\n",
    "gen = ImageDataGenerator(preprocessing_function=preprocess_input)\n",
    "\n",
    "test_generator, steps_test_sample = m.test_gen(gen, basedir, model_image_size, batch_size)"
   ]
  },
  {
   "cell_type": "code",
   "execution_count": 4,
   "metadata": {},
   "outputs": [
    {
     "name": "stdout",
     "output_type": "stream",
     "text": [
      "Found 20000 images belonging to 10 classes.\n",
      "Found 2424 images belonging to 10 classes.\n",
      "Downloading data from https://github.com/fchollet/deep-learning-models/releases/download/v0.4/xception_weights_tf_dim_ordering_tf_kernels_notop.h5\n",
      "83689472/83683744 [==============================] - 1s 0us/step\n",
      "Epoch 1/1\n",
      "625/625 [==============================] - 1147s 2s/step - loss: 0.3527 - acc: 0.8993 - val_loss: 0.4078 - val_acc: 0.8601\n",
      "Epoch 1/1\n",
      "625/625 [==============================] - 1129s 2s/step - loss: 0.0331 - acc: 0.9922 - val_loss: 0.2910 - val_acc: 0.9039\n",
      "4983/4983 [==============================] - 2620s 526ms/step\n"
     ]
    },
    {
     "name": "stderr",
     "output_type": "stream",
     "text": [
      "100%|██████████| 79726/79726 [05:24<00:00, 245.43it/s]\n"
     ]
    },
    {
     "name": "stdout",
     "output_type": "stream",
     "text": [
      "Found 18728 images belonging to 10 classes.\n",
      "Found 3696 images belonging to 10 classes.\n",
      "Epoch 1/1\n",
      "585/585 [==============================] - 1108s 2s/step - loss: 0.3693 - acc: 0.8956 - val_loss: 0.1697 - val_acc: 0.9523\n",
      "Epoch 1/1\n",
      "585/585 [==============================] - 1125s 2s/step - loss: 0.0440 - acc: 0.9909 - val_loss: 0.2011 - val_acc: 0.9445\n",
      "4983/4983 [==============================] - 2635s 529ms/step\n"
     ]
    },
    {
     "name": "stderr",
     "output_type": "stream",
     "text": [
      "100%|██████████| 79726/79726 [05:27<00:00, 243.20it/s]\n"
     ]
    },
    {
     "name": "stdout",
     "output_type": "stream",
     "text": [
      "Found 20577 images belonging to 10 classes.\n",
      "Found 1847 images belonging to 10 classes.\n",
      "Epoch 1/1\n",
      "643/643 [==============================] - 1149s 2s/step - loss: 0.3482 - acc: 0.9013 - val_loss: 0.3003 - val_acc: 0.9047\n",
      "Epoch 1/1\n",
      "643/643 [==============================] - 1150s 2s/step - loss: 0.0392 - acc: 0.9910 - val_loss: 0.1827 - val_acc: 0.9475\n",
      "4983/4983 [==============================] - 2626s 527ms/step\n"
     ]
    },
    {
     "name": "stderr",
     "output_type": "stream",
     "text": [
      "100%|██████████| 79726/79726 [05:31<00:00, 240.44it/s]\n"
     ]
    },
    {
     "name": "stdout",
     "output_type": "stream",
     "text": [
      "Found 19703 images belonging to 10 classes.\n",
      "Found 2721 images belonging to 10 classes.\n",
      "Epoch 1/1\n",
      "616/616 [==============================] - 1132s 2s/step - loss: 0.3438 - acc: 0.9027 - val_loss: 0.2942 - val_acc: 0.9225\n",
      "Epoch 1/1\n",
      "616/616 [==============================] - 1150s 2s/step - loss: 0.0359 - acc: 0.9921 - val_loss: 0.2049 - val_acc: 0.9489\n",
      "4983/4983 [==============================] - 2642s 530ms/step\n"
     ]
    },
    {
     "name": "stderr",
     "output_type": "stream",
     "text": [
      "100%|██████████| 79726/79726 [05:33<00:00, 239.01it/s]\n"
     ]
    },
    {
     "name": "stdout",
     "output_type": "stream",
     "text": [
      "Found 19761 images belonging to 10 classes.\n",
      "Found 2663 images belonging to 10 classes.\n",
      "Epoch 1/1\n",
      "618/618 [==============================] - 1138s 2s/step - loss: 0.3459 - acc: 0.9019 - val_loss: 0.6162 - val_acc: 0.7923\n",
      "Epoch 1/1\n",
      "618/618 [==============================] - 1151s 2s/step - loss: 0.0327 - acc: 0.9935 - val_loss: 0.4029 - val_acc: 0.8795\n",
      "4983/4983 [==============================] - 2652s 532ms/step\n"
     ]
    },
    {
     "name": "stderr",
     "output_type": "stream",
     "text": [
      "100%|██████████| 79726/79726 [05:31<00:00, 240.26it/s]\n",
      "100%|██████████| 79726/79726 [05:34<00:00, 238.59it/s]\n"
     ]
    }
   ],
   "source": [
    "# 模型训练和预测\n",
    "df = pd.read_csv(\"sample_submission.csv\")\n",
    "results = np.zeros((79726, 10))\n",
    "for i in range(1,6):\n",
    "    train_generator, valid_generator, steps_train_sample, steps_valid_sample \\\n",
    "    = m.tv_gen(i, train_gen, gen, basedir, model_image_size, batch_size)\n",
    "    \n",
    "    model = m.build_model(model_name, model_image_size, fune_tune_layer)\n",
    "    optimizer = Adam(lr=1e-4)\n",
    "    m.train_model(model, optimizer, epoch, train_generator, valid_generator, steps_train_sample//2, steps_valid_sample)\n",
    "    optimizer = Adam(lr=1e-5)\n",
    "    m.train_model(model, optimizer, epoch, train_generator, valid_generator, steps_train_sample//2, steps_valid_sample)\n",
    "    model.save('Xception' + str(i) + '.h5')\n",
    "    result = m.predict_model(model, test_generator, steps_test_sample)\n",
    "    m.submission(df, result, 'Xception' + str(i) + '.csv')\n",
    "    results += result\n",
    "results = results / 5.\n",
    "m.submission(df, results, 'Xceptionmerge.csv')"
   ]
  },
  {
   "cell_type": "markdown",
   "metadata": {},
   "source": [
    "# InceptionV3"
   ]
  },
  {
   "cell_type": "code",
   "execution_count": 2,
   "metadata": {},
   "outputs": [
    {
     "name": "stdout",
     "output_type": "stream",
     "text": [
      "Found 79726 images belonging to 1 classes.\n"
     ]
    }
   ],
   "source": [
    "from keras.applications.inception_v3 import preprocess_input\n",
    "from keras import backend as K\n",
    "K.clear_session()\n",
    "\n",
    "# 模型参数\n",
    "model_image_size = (330, 440)\n",
    "batch_size = 32\n",
    "epoch = 1\n",
    "model_name = InceptionV3\n",
    "fune_tune_layer = 0\n",
    "\n",
    "# 图片生成器\n",
    "train_gen = ImageDataGenerator(\n",
    "    preprocessing_function=preprocess_input,\n",
    "    rotation_range=10.,\n",
    "    width_shift_range=0.1,\n",
    "    height_shift_range=0.1,\n",
    "    shear_range=0.1,\n",
    "    zoom_range=0.1,\n",
    "    channel_shift_range=10.)\n",
    "gen = ImageDataGenerator(preprocessing_function=preprocess_input)\n",
    "\n",
    "test_generator, steps_test_sample = m.test_gen(gen, basedir, model_image_size, batch_size)"
   ]
  },
  {
   "cell_type": "code",
   "execution_count": null,
   "metadata": {
    "collapsed": true
   },
   "outputs": [],
   "source": [
    "# 模型训练和预测\n",
    "df = pd.read_csv(\"sample_submission.csv\")\n",
    "results = np.zeros((79726, 10))\n",
    "for i in range(1,6):\n",
    "    train_generator, valid_generator, steps_train_sample, steps_valid_sample \\\n",
    "    = m.tv_gen(i, train_gen, gen, basedir, model_image_size, batch_size)\n",
    "    \n",
    "    model = m.build_model(model_name, model_image_size, fune_tune_layer)\n",
    "    optimizer = Adam(lr=1e-4)\n",
    "    m.train_model(model, optimizer, epoch, train_generator, valid_generator, steps_train_sample//2, steps_valid_sample)\n",
    "    optimizer = Adam(lr=1e-5)\n",
    "    m.train_model(model, optimizer, epoch, train_generator, valid_generator, steps_train_sample//2, steps_valid_sample)\n",
    "    model.save('InceptionV3_' + str(i) + '.h5')\n",
    "    result = m.predict_model(model, test_generator, steps_test_sample)\n",
    "    m.submission(df, result, 'InceptionV3_' + str(i) + '.csv')\n",
    "    results += result\n",
    "\n",
    "results = results / 5.\n",
    "m.submission(df, results, 'InceptionV3merge.csv')"
   ]
  }
 ],
 "metadata": {
  "kernelspec": {
   "display_name": "Python 3",
   "language": "python",
   "name": "python3"
  },
  "language_info": {
   "codemirror_mode": {
    "name": "ipython",
    "version": 3
   },
   "file_extension": ".py",
   "mimetype": "text/x-python",
   "name": "python",
   "nbconvert_exporter": "python",
   "pygments_lexer": "ipython3",
   "version": "3.6.1"
  }
 },
 "nbformat": 4,
 "nbformat_minor": 2
}
