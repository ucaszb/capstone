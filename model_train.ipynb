{
 "cells": [
  {
   "cell_type": "code",
   "execution_count": null,
   "metadata": {},
   "outputs": [],
   "source": [
    "import model as m\n",
    "basedir = './imgs/'"
   ]
  },
  {
   "cell_type": "markdown",
   "metadata": {},
   "source": [
    "# 分离训练集"
   ]
  },
  {
   "cell_type": "code",
   "execution_count": null,
   "metadata": {},
   "outputs": [],
   "source": [
    "for i in range(5):\n",
    "    train_valid_split(i+1, driver_list[5*i: 5*i+5])"
   ]
  },
  {
   "cell_type": "markdown",
   "metadata": {},
   "source": [
    "# 模型训练"
   ]
  },
  {
   "cell_type": "code",
   "execution_count": null,
   "metadata": {},
   "outputs": [],
   "source": [
    "from keras.applications.resnet50 import preprocess_input"
   ]
  },
  {
   "cell_type": "code",
   "execution_count": null,
   "metadata": {},
   "outputs": [],
   "source": [
    "from keras import backend as K\n",
    "K.clear_session()\n",
    "\n",
    "model_image_size = (240, 320)\n",
    "batch_size = 48\n",
    "epoch = 2\n",
    "model_name = ResNet50\n",
    "fune_tune_layer = 0\n",
    "optimizer = Adam(lr=1e-4)\n",
    "\n",
    "train_gen = ImageDataGenerator(\n",
    "    preprocessing_function=preprocess_input,\n",
    "    rotation_range=10.,\n",
    "    width_shift_range=0.05,\n",
    "    height_shift_range=0.05,\n",
    "    shear_range=0.1,\n",
    "    zoom_range=0.1,\n",
    ")\n",
    "\n",
    "gen = ImageDataGenerator(preprocessing_function=preprocess_input)"
   ]
  },
  {
   "cell_type": "code",
   "execution_count": null,
   "metadata": {},
   "outputs": [],
   "source": [
    "test_generator, steps_test_sample = m.test_gen(gen, basedir, model_image_size, batch_size)"
   ]
  },
  {
   "cell_type": "code",
   "execution_count": null,
   "metadata": {},
   "outputs": [],
   "source": [
    "result = np.array([0.]*79726)\n",
    "for i in range(1,2):\n",
    "    train_generator, valid_generator, steps_train_sample, steps_valid_sample \n",
    "    = m.img_gen(i, train_gen, gen, basedir, model_image_size, batch_size)\n",
    "    \n",
    "    model = m.build_model(model_name, model_image_size, fune_tune_layer)\n",
    "    \n",
    "    m.train_model(model, optimizer, epoch, train_generator, valid_generator, steps_train_sample//2, steps_valid_sample)\n",
    "#    optimizer = Adam(lr=1e-5)\n",
    "#    m.train_model(model, optimizer, epoch, train_generator, valid_generator, steps_train_sample, steps_valid_sample)\n",
    "#    optimizer = Adam(lr=1e-6)\n",
    "#    m.train_model(model, optimizer, epoch, train_generator, valid_generator, steps_train_sample, steps_valid_sample)\n",
    "#    result += m.predict_model(model, test_generator, steps_test_sample)\n",
    "#result /= 5\n",
    "\n",
    "#m.submission(result, 'ResNet50.csv')"
   ]
  }
 ],
 "metadata": {
  "kernelspec": {
   "display_name": "Environment (conda_tensorflow_p36)",
   "language": "python",
   "name": "conda_tensorflow_p36"
  },
  "language_info": {
   "codemirror_mode": {
    "name": "ipython",
    "version": 3
   },
   "file_extension": ".py",
   "mimetype": "text/x-python",
   "name": "python",
   "nbconvert_exporter": "python",
   "pygments_lexer": "ipython3",
   "version": "3.6.4"
  }
 },
 "nbformat": 4,
 "nbformat_minor": 2
}
