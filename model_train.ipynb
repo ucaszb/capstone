{
 "cells": [
  {
   "cell_type": "code",
   "execution_count": null,
   "metadata": {},
   "outputs": [],
   "source": [
    "!pip install tqdm  \n",
    "basedir = './imgs/'\n",
    "import os\n",
    "import numpy as np\n",
    "import pandas as pd\n",
    "import model as m\n",
    "from tqdm import tqdm\n",
    "from keras.models import *\n",
    "from keras.layers import *\n",
    "from keras.optimizers import *\n",
    "from keras.applications import *\n",
    "from keras.preprocessing.image import *"
   ]
  },
  {
   "cell_type": "markdown",
   "metadata": {},
   "source": [
    "# 分离训练集"
   ]
  },
  {
   "cell_type": "code",
   "execution_count": null,
   "metadata": {},
   "outputs": [],
   "source": [
    "df = pd.read_csv('driver_imgs_list.csv')\n",
    "driver_list = list(df['subject'].unique())"
   ]
  },
  {
   "cell_type": "code",
   "execution_count": null,
   "metadata": {},
   "outputs": [],
   "source": [
    "for i in range(5):\n",
    "    m.train_valid_split(basedir, i+1, df, driver_list, driver_list[5*i: 5*i+3])"
   ]
  },
  {
   "cell_type": "markdown",
   "metadata": {},
   "source": [
    "# ResNet50"
   ]
  },
  {
   "cell_type": "code",
   "execution_count": null,
   "metadata": {},
   "outputs": [],
   "source": [
    "from keras.applications.resnet50 import preprocess_input"
   ]
  },
  {
   "cell_type": "code",
   "execution_count": null,
   "metadata": {},
   "outputs": [],
   "source": [
    "from keras import backend as K\n",
    "K.clear_session()\n",
    "\n",
    "model_image_size = (240, 320)\n",
    "batch_size = 32\n",
    "epoch = 1\n",
    "model_name = ResNet50\n",
    "fune_tune_layer = 0\n",
    "\n",
    "train_gen = ImageDataGenerator(\n",
    "    preprocessing_function=preprocess_input,\n",
    "    rotation_range=10.,\n",
    "    width_shift_range=0.1,\n",
    "    height_shift_range=0.1,\n",
    "    shear_range=0.1,\n",
    "    zoom_range=0.1,\n",
    "    channel_shift_range=10.\n",
    ")\n",
    "\n",
    "gen = ImageDataGenerator(preprocessing_function=preprocess_input)"
   ]
  },
  {
   "cell_type": "code",
   "execution_count": null,
   "metadata": {},
   "outputs": [],
   "source": [
    "test_generator, steps_test_sample = m.test_gen(gen, basedir, model_image_size, batch_size)"
   ]
  },
  {
   "cell_type": "code",
   "execution_count": null,
   "metadata": {},
   "outputs": [],
   "source": [
    "df = pd.read_csv(\"sample_submission.csv\")\n",
    "results = np.zeros((79726, 10))\n",
    "for i in range(1,6):\n",
    "    train_generator, valid_generator, steps_train_sample, steps_valid_sample \\\n",
    "    = m.tv_gen(i, train_gen, gen, basedir, model_image_size, batch_size)\n",
    "    \n",
    "    model = m.build_model(model_name, model_image_size, fune_tune_layer)\n",
    "    optimizer = Adam(lr=1e-4)\n",
    "    m.train_model(model, optimizer, epoch, train_generator, valid_generator, steps_train_sample//2, steps_valid_sample)\n",
    "    optimizer = Adam(lr=1e-5)\n",
    "    m.train_model(model, optimizer, epoch, train_generator, valid_generator, steps_train_sample//2, steps_valid_sample)\n",
    "    model.save('ResNet50_' + str(i) + '.h5')\n",
    "    result = m.predict_model(model, test_generator, steps_test_sample)\n",
    "    m.submission(df, result, 'ResNet50_' + str(i) + '.csv')\n",
    "    results += result\n",
    "results = results / 5.\n",
    "m.submission(df, results, 'ResNet50merge.csv')\n",
    "m.submission_clip(df, results, 'ResNet50merge_clip.csv')"
   ]
  },
  {
   "cell_type": "markdown",
   "metadata": {},
   "source": [
    "# Xception"
   ]
  },
  {
   "cell_type": "code",
   "execution_count": null,
   "metadata": {},
   "outputs": [],
   "source": [
    "from keras.applications.xception import preprocess_input"
   ]
  },
  {
   "cell_type": "code",
   "execution_count": null,
   "metadata": {},
   "outputs": [],
   "source": [
    "from keras import backend as K\n",
    "K.clear_session()\n",
    "\n",
    "model_image_size = (330, 440)\n",
    "batch_size = 16\n",
    "epoch = 1\n",
    "model_name = Xception\n",
    "fune_tune_layer = 0\n",
    "\n",
    "train_gen = ImageDataGenerator(\n",
    "    preprocessing_function=preprocess_input,\n",
    "    rotation_range=10.,\n",
    "    width_shift_range=0.1,\n",
    "    height_shift_range=0.1,\n",
    "    shear_range=0.1,\n",
    "    zoom_range=0.1,\n",
    "    channel_shift_range=10.\n",
    ")\n",
    "\n",
    "gen = ImageDataGenerator(preprocessing_function=preprocess_input)"
   ]
  },
  {
   "cell_type": "code",
   "execution_count": null,
   "metadata": {},
   "outputs": [],
   "source": [
    "test_generator, steps_test_sample = m.test_gen(gen, basedir, model_image_size, batch_size)"
   ]
  },
  {
   "cell_type": "code",
   "execution_count": null,
   "metadata": {},
   "outputs": [],
   "source": [
    "df = pd.read_csv(\"sample_submission.csv\")\n",
    "results = np.zeros((79726, 10))\n",
    "for i in range(1,6):\n",
    "    train_generator, valid_generator, steps_train_sample, steps_valid_sample \\\n",
    "    = m.tv_gen(i, train_gen, gen, basedir, model_image_size, batch_size)\n",
    "    \n",
    "    model = m.build_model(model_name, model_image_size, fune_tune_layer)\n",
    "    optimizer = Adam(lr=1e-4)\n",
    "    m.train_model(model, optimizer, epoch, train_generator, valid_generator, steps_train_sample//2, steps_valid_sample)\n",
    "    optimizer = Adam(lr=1e-5)\n",
    "    m.train_model(model, optimizer, epoch, train_generator, valid_generator, steps_train_sample//2, steps_valid_sample)\n",
    "    model.save('Xception' + str(i) + '.h5')\n",
    "    result = m.predict_model(model, test_generator, steps_test_sample)\n",
    "    m.submission(df, result, 'Xception' + str(i) + '.csv')\n",
    "    results += result\n",
    "results = results / 5.\n",
    "m.submission(df, results, 'Xceptionmerge.csv')\n",
    "m.submission_clip(df, results, 'Xceptionmerge_clip.csv')"
   ]
  },
  {
   "cell_type": "markdown",
   "metadata": {},
   "source": [
    "# InceptionV3"
   ]
  },
  {
   "cell_type": "code",
   "execution_count": null,
   "metadata": {},
   "outputs": [],
   "source": [
    "from keras.applications.inception_v3 import preprocess_input"
   ]
  },
  {
   "cell_type": "code",
   "execution_count": null,
   "metadata": {},
   "outputs": [],
   "source": [
    "from keras import backend as K\n",
    "K.clear_session()\n",
    "\n",
    "model_image_size = (330, 440)\n",
    "batch_size = 32\n",
    "epoch = 1\n",
    "model_name = InceptionV3\n",
    "fune_tune_layer = 0\n",
    "\n",
    "train_gen = ImageDataGenerator(\n",
    "    preprocessing_function=preprocess_input,\n",
    "    rotation_range=10.,\n",
    "    width_shift_range=0.1,\n",
    "    height_shift_range=0.1,\n",
    "    shear_range=0.1,\n",
    "    zoom_range=0.1,\n",
    "    channel_shift_range=10.\n",
    ")\n",
    "\n",
    "gen = ImageDataGenerator(preprocessing_function=preprocess_input)"
   ]
  },
  {
   "cell_type": "code",
   "execution_count": null,
   "metadata": {},
   "outputs": [],
   "source": [
    "test_generator, steps_test_sample = m.test_gen(gen, basedir, model_image_size, batch_size)"
   ]
  },
  {
   "cell_type": "code",
   "execution_count": null,
   "metadata": {},
   "outputs": [],
   "source": [
    "df = pd.read_csv(\"sample_submission.csv\")\n",
    "results = np.zeros((79726, 10))\n",
    "for i in range(1,6):\n",
    "    train_generator, valid_generator, steps_train_sample, steps_valid_sample \\\n",
    "    = m.tv_gen(i, train_gen, gen, basedir, model_image_size, batch_size)\n",
    "    \n",
    "    model = m.build_model(model_name, model_image_size, fune_tune_layer)\n",
    "    optimizer = Adam(lr=1e-4)\n",
    "    m.train_model(model, optimizer, epoch, train_generator, valid_generator, steps_train_sample//2, steps_valid_sample)\n",
    "    optimizer = Adam(lr=1e-5)\n",
    "    m.train_model(model, optimizer, epoch, train_generator, valid_generator, steps_train_sample//2, steps_valid_sample)\n",
    "    model.save('InceptionV3_' + str(i) + '.h5')\n",
    "    result = m.predict_model(model, test_generator, steps_test_sample)\n",
    "    m.submission(df, result, 'InceptionV3_' + str(i) + '.csv')\n",
    "    results += result\n",
    "\n",
    "results = results / 5.\n",
    "m.submission(df, results, 'InceptionV3merge.csv')\n",
    "m.submission_clip(df, results, 'InceptionV3merge_clip.csv')"
   ]
  }
 ],
 "metadata": {
  "kernelspec": {
   "display_name": "Environment (conda_tensorflow_p36)",
   "language": "python",
   "name": "conda_tensorflow_p36"
  },
  "language_info": {
   "codemirror_mode": {
    "name": "ipython",
    "version": 3
   },
   "file_extension": ".py",
   "mimetype": "text/x-python",
   "name": "python",
   "nbconvert_exporter": "python",
   "pygments_lexer": "ipython3",
   "version": "3.6.4"
  }
 },
 "nbformat": 4,
 "nbformat_minor": 2
}
