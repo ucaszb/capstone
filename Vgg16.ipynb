{
 "cells": [
  {
   "cell_type": "code",
   "execution_count": 1,
   "metadata": {},
   "outputs": [],
   "source": [
    "basedir = './imgs/'"
   ]
  },
  {
   "cell_type": "code",
   "execution_count": 2,
   "metadata": {},
   "outputs": [
    {
     "name": "stderr",
     "output_type": "stream",
     "text": [
      "/home/ubuntu/anaconda3/envs/tensorflow_p36/lib/python3.6/site-packages/matplotlib/__init__.py:962: UserWarning: Duplicate key in file \"/home/ubuntu/.config/matplotlib/matplotlibrc\", line #2\n",
      "  (fname, cnt))\n",
      "/home/ubuntu/anaconda3/envs/tensorflow_p36/lib/python3.6/site-packages/matplotlib/__init__.py:962: UserWarning: Duplicate key in file \"/home/ubuntu/.config/matplotlib/matplotlibrc\", line #3\n",
      "  (fname, cnt))\n",
      "/home/ubuntu/anaconda3/envs/tensorflow_p36/lib/python3.6/site-packages/h5py/__init__.py:36: FutureWarning: Conversion of the second argument of issubdtype from `float` to `np.floating` is deprecated. In future, it will be treated as `np.float64 == np.dtype(float).type`.\n",
      "  from ._conv import register_converters as _register_converters\n",
      "Using TensorFlow backend.\n"
     ]
    }
   ],
   "source": [
    "import os\n",
    "import numpy as np\n",
    "import pandas as pd\n",
    "\n",
    "from keras.models import *\n",
    "from keras.layers import *\n",
    "from keras.optimizers import *\n",
    "from keras.applications import *\n",
    "from keras.preprocessing.image import *\n",
    "\n",
    "np.random.seed(2017)"
   ]
  },
  {
   "cell_type": "code",
   "execution_count": 3,
   "metadata": {},
   "outputs": [],
   "source": [
    "def img_gen(group, train_gen, valid_gen, basedir, model_image_size, batch_size):\n",
    "    train_generator = train_gen.flow_from_directory(os.path.join(basedir, 'train'+str(group)),  model_image_size, \\\n",
    "                                                shuffle=True, batch_size=batch_size, class_mode=\"categorical\")\n",
    "\n",
    "    valid_generator = valid_gen.flow_from_directory(os.path.join(basedir, 'valid'+str(group)),  model_image_size, \\\n",
    "                                          shuffle=True, batch_size=batch_size, class_mode=\"categorical\")\n",
    "    \n",
    "    steps_train_sample = int(train_generator.samples)//batch_size + 1\n",
    "    steps_valid_sample = int(valid_generator.samples)//batch_size + 1\n",
    "    return train_generator, valid_generator, steps_train_sample, steps_valid_sample "
   ]
  },
  {
   "cell_type": "code",
   "execution_count": 4,
   "metadata": {},
   "outputs": [],
   "source": [
    "def build_model(model_name, model_image_size, fune_tune_layer):\n",
    "    inputs = Input((*model_image_size, 3))\n",
    "    base_model = model_name(input_tensor=inputs, weights='imagenet', include_top=False)\n",
    "    x = GlobalAveragePooling2D()(base_model.output)\n",
    "    x = Dropout(0.5)(x)\n",
    "    x = Dense(10, activation='softmax')(x)\n",
    "    model = Model(inputs, x)    \n",
    "    for i in range(fune_tune_layer):\n",
    "        model.layers[i].trainable = False\n",
    "    return model"
   ]
  },
  {
   "cell_type": "code",
   "execution_count": 5,
   "metadata": {},
   "outputs": [],
   "source": [
    "def train_model(model, optimizer, epoch, train_generator, valid_generator, steps_train_sample, steps_valid_sample):\n",
    "    model.compile(optimizer=optimizer, loss='categorical_crossentropy', metrics=['accuracy'])\n",
    "    model.fit_generator(train_generator, steps_per_epoch=steps_train_sample, epochs=epoch, \\\n",
    "                    validation_data=valid_generator, validation_steps=steps_valid_sample)"
   ]
  },
  {
   "cell_type": "code",
   "execution_count": 6,
   "metadata": {},
   "outputs": [],
   "source": [
    "def predict_model(model, test_generator, steps_test_sample):\n",
    "    y_pred = model.predict_generator(test_generator, steps=test_generator.samples//batch_size+1, verbose=1)\n",
    "    return y_pred"
   ]
  },
  {
   "cell_type": "code",
   "execution_count": 36,
   "metadata": {},
   "outputs": [],
   "source": [
    "def submission(result, fname):\n",
    "    l = []\n",
    "    for i, imgname in tqdm(enumerate(test_generator.filenames)):\n",
    "        name = imgname[imgname.rfind('/')+1:]\n",
    "        l.append([name, *result[i]])\n",
    "        results = np.array(l)\n",
    "    data = {'img': results[:,0]}\n",
    "    for i in range(10):\n",
    "        data['c%d'%i] = results[:,i+1]\n",
    "    df = pd.DataFrame(data, columns=['img'] + ['c%d'%i for i in range(10)])\n",
    "    df = df.sort_values(by='img')\n",
    "    df.to_csv(fname, index=None)    "
   ]
  },
  {
   "cell_type": "code",
   "execution_count": 39,
   "metadata": {},
   "outputs": [],
   "source": [
    "from keras.applications.vgg16 import preprocess_input"
   ]
  },
  {
   "cell_type": "code",
   "execution_count": 8,
   "metadata": {},
   "outputs": [],
   "source": [
    "from keras.applications.resnet50 import preprocess_input"
   ]
  },
  {
   "cell_type": "code",
   "execution_count": 22,
   "metadata": {
    "scrolled": false
   },
   "outputs": [
    {
     "name": "stdout",
     "output_type": "stream",
     "text": [
      "Found 79726 images belonging to 1 classes.\n",
      "Found 16684 images belonging to 10 classes.\n",
      "Found 5740 images belonging to 10 classes.\n",
      "Epoch 1/1\n",
      "174/174 [==============================] - 413s 2s/step - loss: 0.4499 - acc: 0.8612 - val_loss: 0.3730 - val_acc: 0.8929\n"
     ]
    }
   ],
   "source": [
    "from keras import backend as K\n",
    "K.clear_session()\n",
    "\n",
    "model_image_size = (240, 320)\n",
    "batch_size = 48\n",
    "epoch = 1\n",
    "model_name = ResNet50\n",
    "fune_tune_layer = 0\n",
    "optimizer = Adam(lr=1e-4)\n",
    "\n",
    "train_gen = ImageDataGenerator(\n",
    "    preprocessing_function=preprocess_input,\n",
    "    rotation_range=10.,\n",
    "    width_shift_range=0.05,\n",
    "    height_shift_range=0.05,\n",
    "    shear_range=0.1,\n",
    "    zoom_range=0.1,\n",
    ")\n",
    "\n",
    "gen = ImageDataGenerator(preprocessing_function=preprocess_input)\n",
    "test_generator = gen.flow_from_directory(os.path.join(basedir, 'Test'), target_size=model_image_size, shuffle=False, batch_size=batch_size, class_mode=None)\n",
    "steps_test_sample = test_generator.samples//batch_size + 1\n",
    "\n",
    "result = np.array([0.]*79726)\n",
    "for i in range(2,3):\n",
    "    train_generator, valid_generator, steps_train_sample, steps_valid_sample = img_gen(i, train_gen, gen, basedir, model_image_size, batch_size)\n",
    "    model = build_model(model_name, model_image_size, fune_tune_layer)\n",
    "    train_model(model, optimizer, epoch, train_generator, valid_generator, steps_train_sample//2, steps_valid_sample)\n",
    "#    optimizer = Adam(lr=1e-5)\n",
    "#    train_model(model, optimizer, epoch, train_generator, valid_generator, steps_train_sample, steps_valid_sample)\n",
    "#    optimizer = Adam(lr=1e-6)\n",
    "#    train_model(model, optimizer, epoch, train_generator, valid_generator, steps_train_sample, steps_valid_sample)\n",
    "#    result += predict_model(model, test_generator, steps_test_sample)\n",
    "#result /= 5\n",
    "\n",
    "#submission(result, 'VGG16.csv')"
   ]
  },
  {
   "cell_type": "code",
   "execution_count": 23,
   "metadata": {},
   "outputs": [
    {
     "name": "stdout",
     "output_type": "stream",
     "text": [
      "Epoch 1/1\n",
      "174/174 [==============================] - 413s 2s/step - loss: 0.0363 - acc: 0.9908 - val_loss: 0.2769 - val_acc: 0.9091\n"
     ]
    }
   ],
   "source": [
    "optimizer = Adam(lr=1e-5)\n",
    "train_model(model, optimizer, epoch, train_generator, valid_generator, steps_train_sample//2, steps_valid_sample)"
   ]
  },
  {
   "cell_type": "code",
   "execution_count": null,
   "metadata": {},
   "outputs": [],
   "source": [
    "result = predict_model(model, test_generator, steps_test_sample)"
   ]
  },
  {
   "cell_type": "code",
   "execution_count": 42,
   "metadata": {},
   "outputs": [
    {
     "data": {
      "text/plain": [
       "(79726, 10)"
      ]
     },
     "execution_count": 42,
     "metadata": {},
     "output_type": "execute_result"
    }
   ],
   "source": [
    "result.shape"
   ]
  },
  {
   "cell_type": "code",
   "execution_count": 35,
   "metadata": {
    "scrolled": true
   },
   "outputs": [
    {
     "name": "stdout",
     "output_type": "stream",
     "text": [
      "Collecting tqdm\n",
      "  Using cached tqdm-4.19.6-py2.py3-none-any.whl\n",
      "Installing collected packages: tqdm\n",
      "Successfully installed tqdm-4.19.6\n"
     ]
    }
   ],
   "source": [
    "!pip install tqdm  \n",
    "from tqdm import tqdm"
   ]
  },
  {
   "cell_type": "code",
   "execution_count": 45,
   "metadata": {},
   "outputs": [
    {
     "name": "stderr",
     "output_type": "stream",
     "text": [
      "100%|██████████| 79726/79726 [05:25<00:00, 244.86it/s]\n"
     ]
    }
   ],
   "source": [
    "df = pd.read_csv(\"sample_submission copy.csv\")\n",
    "\n",
    "for i in tqdm(range(result.shape[0])):\n",
    "    df.iloc[i,1:11] = result[i]\n",
    "    \n",
    "df.to_csv('ResNet50.csv', index=None)"
   ]
  },
  {
   "cell_type": "code",
   "execution_count": null,
   "metadata": {},
   "outputs": [],
   "source": []
  }
 ],
 "metadata": {
  "kernelspec": {
   "display_name": "Environment (conda_tensorflow_p36)",
   "language": "python",
   "name": "conda_tensorflow_p36"
  },
  "language_info": {
   "codemirror_mode": {
    "name": "ipython",
    "version": 3
   },
   "file_extension": ".py",
   "mimetype": "text/x-python",
   "name": "python",
   "nbconvert_exporter": "python",
   "pygments_lexer": "ipython3",
   "version": "3.6.4"
  }
 },
 "nbformat": 4,
 "nbformat_minor": 2
}
