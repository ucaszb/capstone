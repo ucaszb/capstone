{
 "cells": [
  {
   "cell_type": "code",
   "execution_count": 1,
   "metadata": {},
   "outputs": [
    {
     "name": "stderr",
     "output_type": "stream",
     "text": [
      "/home/ubuntu/anaconda3/envs/tensorflow_p36/lib/python3.6/site-packages/matplotlib/__init__.py:962: UserWarning: Duplicate key in file \"/home/ubuntu/.config/matplotlib/matplotlibrc\", line #2\n",
      "  (fname, cnt))\n",
      "/home/ubuntu/anaconda3/envs/tensorflow_p36/lib/python3.6/site-packages/matplotlib/__init__.py:962: UserWarning: Duplicate key in file \"/home/ubuntu/.config/matplotlib/matplotlibrc\", line #3\n",
      "  (fname, cnt))\n",
      "/home/ubuntu/anaconda3/envs/tensorflow_p36/lib/python3.6/site-packages/h5py/__init__.py:36: FutureWarning: Conversion of the second argument of issubdtype from `float` to `np.floating` is deprecated. In future, it will be treated as `np.float64 == np.dtype(float).type`.\n",
      "  from ._conv import register_converters as _register_converters\n",
      "Using TensorFlow backend.\n"
     ]
    }
   ],
   "source": [
    "import os\n",
    "#import cv2\n",
    "import numpy as np\n",
    "import pandas as pd\n",
    "import model as m\n",
    "from tqdm import tqdm\n",
    "from keras.models import *\n",
    "from keras.applications import *\n",
    "from keras.preprocessing.image import *\n",
    "from keras.applications.xception import preprocess_input"
   ]
  },
  {
   "cell_type": "code",
   "execution_count": null,
   "metadata": {},
   "outputs": [],
   "source": [
    "model_image_size = (330, 440)\n",
    "batch_size = 16\n",
    "\n",
    "model = load_model('Xception3.h5')\n",
    "gen = ImageDataGenerator(preprocessing_function=preprocess_input)\n",
    "valid_generator = valid_gen.flow_from_directory('./imgs/valid3',  model_image_size, shuffle=False, batch_size=batch_size, class_mode=\"categorical\")"
   ]
  },
  {
   "cell_type": "code",
   "execution_count": null,
   "metadata": {},
   "outputs": [],
   "source": [
    "import matplotlib.pyplot as plt\n",
    "import random\n",
    "%matplotlib inline\n",
    "%config InlineBackend.figure_format = 'retina'\n",
    "\n",
    "def show_heatmap_image(model_show, weights_show, image_file):\n",
    "    status = [\"safe driving\",  \" texting - right\",  \"phone - right\",  \"texting - left\",  \"phone - left\",  \n",
    "                  \"operation radio\", \"drinking\", \"reaching behind\", \"hair and makeup\", \"talking\"]\n",
    "    plt.figure()\n",
    "    img = cv2.imread(basedir+'valid/'+image_file)\n",
    "    img = cv2.resize(img,  (model_image_size[1],model_image_size[0]))\n",
    "    img_in = img.copy().astype(np.float32)\n",
    "    img_in = preprocess_input(img_in)\n",
    "    out, predictions = model_show.predict_on_batch(np.expand_dims(img_in, axis=0))\n",
    "    predictions = predictions[0]\n",
    "    out = out[0]\n",
    "    \n",
    "    pred_idx = np.argmax(predictions)\n",
    "    pred = status[pred_idx]\n",
    "    prediction = predictions[pred_idx]\n",
    "    \n",
    "    val_idx = int(image_file[image_file.rfind('/')-1])  \n",
    "    val = status[val_idx]\n",
    "\n",
    "    plt.title('Valid: %s | Pred: %s %.2f%%' % (val, pred, prediction*100))\n",
    "    \n",
    "    cam = prediction * np.matmul(out, weights_show)\n",
    "    cam = cam[:,:,pred_idx]\n",
    "    cam -= cam.min()\n",
    "    cam /= cam.max()\n",
    "\n",
    "    cam = cv2.resize(cam, (model_image_size[1],model_image_size[0]))\n",
    "    heatmap = cv2.applyColorMap(np.uint8(255*cam), cv2.COLORMAP_JET)\n",
    "    heatmap[np.where(cam <= 0.2)] = 0\n",
    "\n",
    "    out = cv2.addWeighted(img, 0.8, heatmap, 0.4, 0)\n",
    "\n",
    "    plt.axis('off')\n",
    "    plt.imshow(out[:,:,::-1])"
   ]
  },
  {
   "cell_type": "code",
   "execution_count": null,
   "metadata": {},
   "outputs": [],
   "source": [
    "weights = model.layers[final_layer].get_weights()[0]\n",
    "layer_output = model.layers[visual_layer].output\n",
    "model2 = Model(model.input, [layer_output, model.output])"
   ]
  }
 ],
 "metadata": {
  "kernelspec": {
   "display_name": "Environment (conda_tensorflow_p36)",
   "language": "python",
   "name": "conda_tensorflow_p36"
  },
  "language_info": {
   "codemirror_mode": {
    "name": "ipython",
    "version": 3
   },
   "file_extension": ".py",
   "mimetype": "text/x-python",
   "name": "python",
   "nbconvert_exporter": "python",
   "pygments_lexer": "ipython3",
   "version": "3.6.4"
  }
 },
 "nbformat": 4,
 "nbformat_minor": 2
}
