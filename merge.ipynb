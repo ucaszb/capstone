{
 "cells": [
  {
   "cell_type": "markdown",
   "metadata": {},
   "source": [
    "# 所有模型集成"
   ]
  },
  {
   "cell_type": "code",
   "execution_count": 17,
   "metadata": {},
   "outputs": [],
   "source": [
    "import numpy as np\n",
    "import pandas as pd"
   ]
  },
  {
   "cell_type": "code",
   "execution_count": 29,
   "metadata": {},
   "outputs": [],
   "source": [
    "df = pd.read_csv(\"sample_submission.csv\")\n",
    "Resnet50 = pd.read_csv('ResNet50merge.csv')\n",
    "InceptionV3 = pd.read_csv('InceptionV3merge.csv')\n",
    "Xception = pd.read_csv('Xceptionmerge.csv')\n",
    "img = df['img']\n",
    "\n",
    "Resnet50 = Resnet50.drop('img',axis =1)\n",
    "InceptionV3 = InceptionV3.drop('img',axis =1)\n",
    "Xception = Xception.drop('img',axis =1)\n",
    "merge = (Resnet50 + InceptionV3 + Xception) /3.\n",
    "merge.insert(0, 'img', img)\n",
    "merge.to_csv('merge.csv', index=None)"
   ]
  },
  {
   "cell_type": "code",
   "execution_count": null,
   "metadata": {
    "collapsed": true
   },
   "outputs": [],
   "source": []
  }
 ],
 "metadata": {
  "kernelspec": {
   "display_name": "Python 3",
   "language": "python",
   "name": "python3"
  },
  "language_info": {
   "codemirror_mode": {
    "name": "ipython",
    "version": 3
   },
   "file_extension": ".py",
   "mimetype": "text/x-python",
   "name": "python",
   "nbconvert_exporter": "python",
   "pygments_lexer": "ipython3",
   "version": "3.6.1"
  }
 },
 "nbformat": 4,
 "nbformat_minor": 2
}
