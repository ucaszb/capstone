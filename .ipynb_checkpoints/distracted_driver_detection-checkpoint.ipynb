{
 "cells": [
  {
   "cell_type": "markdown",
   "metadata": {},
   "source": [
    "# 机器学习工程师纳米学位毕业项目--驾驶员状态检测"
   ]
  },
  {
   "cell_type": "code",
   "execution_count": 2,
   "metadata": {},
   "outputs": [
    {
     "name": "stderr",
     "output_type": "stream",
     "text": [
      "Dataset: 4.29GB [01:14, 57.9MB/s]                               \n"
     ]
    }
   ],
   "source": [
    "#下载数据\n",
    "\n",
    "from urllib.request import urlretrieve\n",
    "from os.path import isfile, isdir\n",
    "from tqdm import tqdm\n",
    "\n",
    "class DLProgress(tqdm):\n",
    "    last_block = 0\n",
    "\n",
    "    def hook(self, block_num=1, block_size=1, total_size=None):\n",
    "        self.total = total_size\n",
    "        self.update((block_num - self.last_block) * block_size)\n",
    "        self.last_block = block_num\n",
    "\n",
    "if not isfile('imgs.zip'):\n",
    "    with DLProgress(unit='B', unit_scale=True, miniters=1, desc='Dataset') as pbar:\n",
    "        urlretrieve('https://storage.googleapis.com/kaggle-competitions-data/kaggle/5048/imgs.zip?GoogleAccessId=competitions-data@kaggle-161607.iam.gserviceaccount.com&Expires=1501760775&Signature=lLmT1REaZts91RV75wp1lfSPU4EVF6xgXHt5pIjbBm%2B5ZJ7ZG69WMwbNTOHVRWlpzfvt%2F9YSpEk0HWTDvOLi3ccKsfMeTBur0%2BjYIgP9Thn4THcZqEDGqsJqKJKU2hfQIiM4VL6xS20GslHM7VSW9naeg1CNxpEwOsS%2BHDVNBYcrjvFxLj%2BquCjZjsGOmqsP9MtftC5fiJHAeGDgy2cSHg6Whpu8GxjTQ%2FGnuYOm8az39pzIJAQDxwEUgeD0sDxYrmlQRbnVx8pkhRJ4OStI257yrQk5TsOLNIaisvkMuLgf2vn00wkyCH5X6VF0btvXgRCydr1T60AXNkf9xbuH2Q%3D%3D', 'imgs.zip', pbar.hook)"
   ]
  },
  {
   "cell_type": "code",
   "execution_count": null,
   "metadata": {
    "collapsed": true
   },
   "outputs": [],
   "source": [
    "#解压\n",
    "\n",
    "import zipfile\n",
    "\n",
    "zf = zipfile.ZipFile('imgs.zip' , 'r')\n",
    "zf.extractall('imgs/')\n",
    "zf.close()"
   ]
  },
  {
   "cell_type": "code",
   "execution_count": 1,
   "metadata": {
    "collapsed": true
   },
   "outputs": [],
   "source": [
    "#移动test文件夹图片\n",
    "\n",
    "import shutil, os\n",
    "\n",
    "os.mkdir('imgs/Test')"
   ]
  },
  {
   "cell_type": "code",
   "execution_count": 2,
   "metadata": {},
   "outputs": [
    {
     "data": {
      "text/plain": [
       "'imgs/Test/test'"
      ]
     },
     "execution_count": 2,
     "metadata": {},
     "output_type": "execute_result"
    }
   ],
   "source": [
    "shutil.move('imgs/test', 'imgs/Test')"
   ]
  },
  {
   "cell_type": "code",
   "execution_count": 3,
   "metadata": {
    "collapsed": true
   },
   "outputs": [],
   "source": [
    "os.remove('imgs.zip')"
   ]
  },
  {
   "cell_type": "code",
   "execution_count": 23,
   "metadata": {},
   "outputs": [
    {
     "name": "stdout",
     "output_type": "stream",
     "text": [
      "Found 22424 images belonging to 10 classes.\n",
      "Found 79726 images belonging to 1 classes.\n"
     ]
    }
   ],
   "source": [
    "#图片预处理\n",
    "\n",
    "from keras.preprocessing.image import ImageDataGenerator\n",
    "\n",
    "gen = ImageDataGenerator(rescale=1./255)\n",
    "train_generator = gen.flow_from_directory('imgs/train', target_size=(224,224), batch_size=16, shuffle=False, class_mode='categorical')\n",
    "test_generator = gen.flow_from_directory('imgs/Test', target_size=(224,224), batch_size=16, shuffle=False, class_mode=None)"
   ]
  },
  {
   "cell_type": "code",
   "execution_count": 26,
   "metadata": {},
   "outputs": [
    {
     "data": {
      "text/plain": [
       "8"
      ]
     },
     "execution_count": 26,
     "metadata": {},
     "output_type": "execute_result"
    }
   ],
   "source": [
    "train_generator.classes[20000]"
   ]
  },
  {
   "cell_type": "code",
   "execution_count": 24,
   "metadata": {
    "collapsed": true
   },
   "outputs": [],
   "source": [
    "#使用ResNet50模型导出特征向量\n",
    "\n",
    "from keras.applications.resnet50 import ResNet50\n",
    "import h5py\n",
    "import numpy as np\n",
    "from sklearn.utils import shuffle\n",
    "\n",
    "model = ResNet50(include_top=False, weights='imagenet')\n",
    "train = model.predict_generator(train_generator, 22424//16+1)\n",
    "test = model.predict_generator(test_generator, 79726//16+1)\n",
    "\n",
    "with h5py.File(\"ResNet50.h5\") as h:\n",
    "    h.create_dataset(\"train\", data=train)\n",
    "    h.create_dataset(\"test\", data=test)\n",
    "    h.create_dataset(\"label\", data=train_generator.classes)\n",
    "    \n",
    "\n",
    "#np.save(open('bottleneck_features_train.npy', 'w'), train)\n",
    "#np.save(open('bottleneck_features_test.npy', 'w'), test)"
   ]
  },
  {
   "cell_type": "code",
   "execution_count": 3,
   "metadata": {
    "collapsed": true
   },
   "outputs": [],
   "source": [
    "from keras.applications.resnet50 import ResNet50\n",
    "import h5py\n",
    "import numpy as np\n",
    "from sklearn.utils import shuffle\n",
    "\n",
    "np.random.seed(100)    \n",
    "X_train, X_test = [], []\n",
    "\n",
    "with h5py.File('/input/ResNet50.h5', 'r') as h:\n",
    "    X_train = np.array(h['train'])\n",
    "    X_test = np.array(h['test'])\n",
    "    y_train = np.array(h['label'])\n",
    "    \n",
    "X_train, y_train = shuffle(X_train, y_train)"
   ]
  },
  {
   "cell_type": "code",
   "execution_count": 12,
   "metadata": {},
   "outputs": [
    {
     "data": {
      "text/plain": [
       "(22424, 1, 1, 2048)"
      ]
     },
     "execution_count": 12,
     "metadata": {},
     "output_type": "execute_result"
    }
   ],
   "source": [
    "X_train.shape"
   ]
  },
  {
   "cell_type": "code",
   "execution_count": 28,
   "metadata": {
    "scrolled": true
   },
   "outputs": [
    {
     "data": {
      "text/plain": [
       "(22424,)"
      ]
     },
     "execution_count": 28,
     "metadata": {},
     "output_type": "execute_result"
    }
   ],
   "source": [
    "y_train.shape"
   ]
  },
  {
   "cell_type": "code",
   "execution_count": 5,
   "metadata": {
    "collapsed": true
   },
   "outputs": [],
   "source": [
    "# y_trian 转为独热编码\n",
    "\n",
    "from sklearn import preprocessing\n",
    "lb = preprocessing.LabelBinarizer()\n",
    "lb.fit(np.array([0,1,2,3,4,5,6,7,8,9]))\n",
    "y_train = lb.transform(y_train)\n",
    "\n"
   ]
  },
  {
   "cell_type": "code",
   "execution_count": 7,
   "metadata": {},
   "outputs": [
    {
     "data": {
      "text/plain": [
       "array([0, 0, 0, 0, 0, 0, 0, 0, 1, 0])"
      ]
     },
     "execution_count": 7,
     "metadata": {},
     "output_type": "execute_result"
    }
   ],
   "source": [
    "y_train[200]"
   ]
  },
  {
   "cell_type": "code",
   "execution_count": 8,
   "metadata": {
    "scrolled": false
   },
   "outputs": [
    {
     "name": "stderr",
     "output_type": "stream",
     "text": [
      "/usr/local/lib/python3.5/site-packages/keras/models.py:844: UserWarning: The `nb_epoch` argument in `fit` has been renamed `epochs`.\n",
      "  warnings.warn('The `nb_epoch` argument in `fit` '\n"
     ]
    },
    {
     "name": "stdout",
     "output_type": "stream",
     "text": [
      "Train on 17939 samples, validate on 4485 samples\n",
      "Epoch 1/50\n",
      "17939/17939 [==============================] - 12s - loss: 2.3072 - acc: 0.1077 - val_loss: 2.2884 - val_acc: 0.1032\n",
      "Epoch 2/50\n",
      "17939/17939 [==============================] - 0s - loss: 2.2490 - acc: 0.1565 - val_loss: 2.2392 - val_acc: 0.1407\n",
      "Epoch 3/50\n",
      "17939/17939 [==============================] - 0s - loss: 2.1625 - acc: 0.2019 - val_loss: 2.1062 - val_acc: 0.2366\n",
      "Epoch 4/50\n",
      "17939/17939 [==============================] - 0s - loss: 2.0804 - acc: 0.2284 - val_loss: 2.0159 - val_acc: 0.2606\n",
      "Epoch 5/50\n",
      "17939/17939 [==============================] - 0s - loss: 2.0122 - acc: 0.2527 - val_loss: 2.2311 - val_acc: 0.1737\n",
      "Epoch 6/50\n",
      "17939/17939 [==============================] - 0s - loss: 1.9525 - acc: 0.2817 - val_loss: 2.0616 - val_acc: 0.1975\n",
      "Epoch 7/50\n",
      "17939/17939 [==============================] - 0s - loss: 1.8958 - acc: 0.3082 - val_loss: 1.9138 - val_acc: 0.3086\n",
      "Epoch 8/50\n",
      "17939/17939 [==============================] - 0s - loss: 1.8614 - acc: 0.3262 - val_loss: 1.7834 - val_acc: 0.3612\n",
      "Epoch 9/50\n",
      "17939/17939 [==============================] - 0s - loss: 1.8267 - acc: 0.3402 - val_loss: 1.9585 - val_acc: 0.2977\n",
      "Epoch 10/50\n",
      "17939/17939 [==============================] - 0s - loss: 1.7873 - acc: 0.3610 - val_loss: 1.7976 - val_acc: 0.3699\n",
      "Epoch 11/50\n",
      "17939/17939 [==============================] - 0s - loss: 1.7547 - acc: 0.3670 - val_loss: 1.7032 - val_acc: 0.3614\n",
      "Epoch 12/50\n",
      "17939/17939 [==============================] - 0s - loss: 1.7197 - acc: 0.3822 - val_loss: 1.5390 - val_acc: 0.4899\n",
      "Epoch 13/50\n",
      "17939/17939 [==============================] - 0s - loss: 1.6833 - acc: 0.3905 - val_loss: 1.6212 - val_acc: 0.4054\n",
      "Epoch 14/50\n",
      "17939/17939 [==============================] - 0s - loss: 1.6575 - acc: 0.4030 - val_loss: 1.5529 - val_acc: 0.4239\n",
      "Epoch 15/50\n",
      "17939/17939 [==============================] - 0s - loss: 1.6227 - acc: 0.4222 - val_loss: 1.5026 - val_acc: 0.4462\n",
      "Epoch 16/50\n",
      "17939/17939 [==============================] - 0s - loss: 1.6019 - acc: 0.4262 - val_loss: 1.4774 - val_acc: 0.4308\n",
      "Epoch 17/50\n",
      "17939/17939 [==============================] - 0s - loss: 1.5762 - acc: 0.4379 - val_loss: 1.5289 - val_acc: 0.4261\n",
      "Epoch 18/50\n",
      "17939/17939 [==============================] - 0s - loss: 1.5528 - acc: 0.4439 - val_loss: 1.3237 - val_acc: 0.5623\n",
      "Epoch 19/50\n",
      "17939/17939 [==============================] - 0s - loss: 1.5142 - acc: 0.4562 - val_loss: 1.6816 - val_acc: 0.4207\n",
      "Epoch 20/50\n",
      "17939/17939 [==============================] - 0s - loss: 1.5020 - acc: 0.4618 - val_loss: 1.3982 - val_acc: 0.5048\n",
      "Epoch 21/50\n",
      "17939/17939 [==============================] - 0s - loss: 1.4738 - acc: 0.4739 - val_loss: 1.3180 - val_acc: 0.5478\n",
      "Epoch 22/50\n",
      "17939/17939 [==============================] - 0s - loss: 1.4446 - acc: 0.4839 - val_loss: 1.5827 - val_acc: 0.3926\n",
      "Epoch 23/50\n",
      "17939/17939 [==============================] - 0s - loss: 1.4352 - acc: 0.4882 - val_loss: 1.4926 - val_acc: 0.4290\n",
      "Epoch 24/50\n",
      "17939/17939 [==============================] - 0s - loss: 1.4046 - acc: 0.4980 - val_loss: 1.5707 - val_acc: 0.3833\n",
      "Epoch 25/50\n",
      "17939/17939 [==============================] - 0s - loss: 1.3937 - acc: 0.5058 - val_loss: 1.6797 - val_acc: 0.3679\n",
      "Epoch 26/50\n",
      "17939/17939 [==============================] - 0s - loss: 1.3723 - acc: 0.5139 - val_loss: 1.2415 - val_acc: 0.5605\n",
      "Epoch 27/50\n",
      "17939/17939 [==============================] - 0s - loss: 1.3450 - acc: 0.5242 - val_loss: 1.1516 - val_acc: 0.6328\n",
      "Epoch 28/50\n",
      "17939/17939 [==============================] - 0s - loss: 1.3328 - acc: 0.5281 - val_loss: 1.3715 - val_acc: 0.4798\n",
      "Epoch 29/50\n",
      "17939/17939 [==============================] - 0s - loss: 1.3137 - acc: 0.5338 - val_loss: 1.3209 - val_acc: 0.5088\n",
      "Epoch 30/50\n",
      "17939/17939 [==============================] - 0s - loss: 1.2910 - acc: 0.5380 - val_loss: 1.1529 - val_acc: 0.6254\n",
      "Epoch 31/50\n",
      "17939/17939 [==============================] - 0s - loss: 1.2842 - acc: 0.5425 - val_loss: 1.0674 - val_acc: 0.6631\n",
      "Epoch 32/50\n",
      "17939/17939 [==============================] - 0s - loss: 1.2683 - acc: 0.5523 - val_loss: 1.1008 - val_acc: 0.6165\n",
      "Epoch 33/50\n",
      "17939/17939 [==============================] - 0s - loss: 1.2519 - acc: 0.5549 - val_loss: 1.0016 - val_acc: 0.6838\n",
      "Epoch 34/50\n",
      "17939/17939 [==============================] - 0s - loss: 1.2351 - acc: 0.5661 - val_loss: 1.0244 - val_acc: 0.6615\n",
      "Epoch 35/50\n",
      "17939/17939 [==============================] - 0s - loss: 1.2253 - acc: 0.5715 - val_loss: 0.9727 - val_acc: 0.6849\n",
      "Epoch 36/50\n",
      "17939/17939 [==============================] - 0s - loss: 1.2231 - acc: 0.5707 - val_loss: 1.1203 - val_acc: 0.5955\n",
      "Epoch 37/50\n",
      "17939/17939 [==============================] - 0s - loss: 1.1937 - acc: 0.5795 - val_loss: 1.0200 - val_acc: 0.6435\n",
      "Epoch 38/50\n",
      "17939/17939 [==============================] - 0s - loss: 1.1873 - acc: 0.5763 - val_loss: 1.0090 - val_acc: 0.6751\n",
      "Epoch 39/50\n",
      "17939/17939 [==============================] - 0s - loss: 1.1694 - acc: 0.5835 - val_loss: 1.3035 - val_acc: 0.4981\n",
      "Epoch 40/50\n",
      "17939/17939 [==============================] - 0s - loss: 1.1588 - acc: 0.5937 - val_loss: 1.0923 - val_acc: 0.6165\n",
      "Epoch 41/50\n",
      "17939/17939 [==============================] - 0s - loss: 1.1539 - acc: 0.5929 - val_loss: 1.2085 - val_acc: 0.5282\n",
      "Epoch 42/50\n",
      "17939/17939 [==============================] - 0s - loss: 1.1378 - acc: 0.6008 - val_loss: 1.0079 - val_acc: 0.6375\n",
      "Epoch 43/50\n",
      "17939/17939 [==============================] - 0s - loss: 1.1236 - acc: 0.6018 - val_loss: 0.8503 - val_acc: 0.7463\n",
      "Epoch 44/50\n",
      "17939/17939 [==============================] - 0s - loss: 1.1121 - acc: 0.6091 - val_loss: 1.0558 - val_acc: 0.6029\n",
      "Epoch 45/50\n",
      "17939/17939 [==============================] - 0s - loss: 1.0995 - acc: 0.6144 - val_loss: 0.9206 - val_acc: 0.7246\n",
      "Epoch 46/50\n",
      "17939/17939 [==============================] - 0s - loss: 1.0934 - acc: 0.6168 - val_loss: 0.9423 - val_acc: 0.6783\n",
      "Epoch 47/50\n",
      "17939/17939 [==============================] - 0s - loss: 1.0878 - acc: 0.6219 - val_loss: 1.2443 - val_acc: 0.5483\n",
      "Epoch 48/50\n",
      "17939/17939 [==============================] - 0s - loss: 1.0724 - acc: 0.6209 - val_loss: 0.7784 - val_acc: 0.7494\n",
      "Epoch 49/50\n",
      "17939/17939 [==============================] - 0s - loss: 1.0730 - acc: 0.6206 - val_loss: 0.9478 - val_acc: 0.6595\n",
      "Epoch 50/50\n",
      "17939/17939 [==============================] - 0s - loss: 1.0600 - acc: 0.6296 - val_loss: 1.3394 - val_acc: 0.4910\n"
     ]
    },
    {
     "data": {
      "text/plain": [
       "<keras.callbacks.History at 0x7feeca711eb8>"
      ]
     },
     "execution_count": 8,
     "metadata": {},
     "output_type": "execute_result"
    }
   ],
   "source": [
    "#利用特征向量训练全连接层\n",
    "\n",
    "from keras.models import Sequential\n",
    "from keras.layers import Dropout, Flatten, Dense\n",
    "\n",
    "model = Sequential()\n",
    "model.add(Flatten(input_shape=X_train.shape[1:]))\n",
    "#model.add(Dense(256, activation='relu'))\n",
    "#model.add(Dropout(0.5))\n",
    "model.add(Dense(10, activation='sigmoid'))\n",
    "\n",
    "model.compile(optimizer='rmsprop',\n",
    "              loss='categorical_crossentropy',\n",
    "              metrics=['accuracy'])\n",
    "\n",
    "model.fit(X_train, y_train,\n",
    "          nb_epoch=50, batch_size=128,\n",
    "          validation_split=0.2)"
   ]
  },
  {
   "cell_type": "code",
   "execution_count": 9,
   "metadata": {},
   "outputs": [
    {
     "name": "stdout",
     "output_type": "stream",
     "text": [
      "79584/79726 [============================>.] - ETA: 0s"
     ]
    }
   ],
   "source": [
    "#利用模型预测结果\n",
    "\n",
    "y_pred = model.predict(X_test, verbose=1)\n",
    "y_pred = y_pred.clip(min=0.005, max=0.995)"
   ]
  },
  {
   "cell_type": "code",
   "execution_count": 10,
   "metadata": {},
   "outputs": [
    {
     "data": {
      "text/plain": [
       "(79726, 10)"
      ]
     },
     "execution_count": 10,
     "metadata": {},
     "output_type": "execute_result"
    }
   ],
   "source": [
    "y_pred[50]"
   ]
  },
  {
   "cell_type": "code",
   "execution_count": null,
   "metadata": {
    "collapsed": true
   },
   "outputs": [],
   "source": [
    "#输出预测结果\n",
    "\n",
    "import pandas as pd\n",
    "\n",
    "df = pd.read_csv(\"sample_submission.csv\")\n",
    "\n",
    "for i in range(y_pred.shape[0]):\n",
    "    df.iloc[i,1:11] = y_pred[i]\n",
    "    \n",
    "df.to_csv('sample_submission.csv', index=None)"
   ]
  }
 ],
 "metadata": {
  "kernelspec": {
   "display_name": "Python 3",
   "language": "python",
   "name": "python3"
  },
  "language_info": {
   "codemirror_mode": {
    "name": "ipython",
    "version": 3
   },
   "file_extension": ".py",
   "mimetype": "text/x-python",
   "name": "python",
   "nbconvert_exporter": "python",
   "pygments_lexer": "ipython3",
   "version": "3.6.1"
  }
 },
 "nbformat": 4,
 "nbformat_minor": 2
}
