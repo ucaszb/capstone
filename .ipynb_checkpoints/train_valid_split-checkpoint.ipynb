{
 "cells": [
  {
   "cell_type": "code",
   "execution_count": 1,
   "metadata": {},
   "outputs": [
    {
     "name": "stderr",
     "output_type": "stream",
     "text": [
      "/home/ubuntu/anaconda3/lib/python3.6/site-packages/matplotlib/__init__.py:962: UserWarning: Duplicate key in file \"/home/ubuntu/.config/matplotlib/matplotlibrc\", line #2\n",
      "  (fname, cnt))\n",
      "/home/ubuntu/anaconda3/lib/python3.6/site-packages/matplotlib/__init__.py:962: UserWarning: Duplicate key in file \"/home/ubuntu/.config/matplotlib/matplotlibrc\", line #3\n",
      "  (fname, cnt))\n"
     ]
    }
   ],
   "source": [
    "import os\n",
    "import numpy as np\n",
    "import pandas as pd"
   ]
  },
  {
   "cell_type": "code",
   "execution_count": 8,
   "metadata": {},
   "outputs": [],
   "source": [
    "basedir = './imgs/'"
   ]
  },
  {
   "cell_type": "code",
   "execution_count": 3,
   "metadata": {
    "scrolled": true
   },
   "outputs": [
    {
     "data": {
      "text/plain": [
       "['p002',\n",
       " 'p012',\n",
       " 'p014',\n",
       " 'p015',\n",
       " 'p016',\n",
       " 'p021',\n",
       " 'p022',\n",
       " 'p024',\n",
       " 'p026',\n",
       " 'p035',\n",
       " 'p039',\n",
       " 'p041',\n",
       " 'p042',\n",
       " 'p045',\n",
       " 'p047',\n",
       " 'p049',\n",
       " 'p050',\n",
       " 'p051',\n",
       " 'p052',\n",
       " 'p056',\n",
       " 'p061',\n",
       " 'p064',\n",
       " 'p066',\n",
       " 'p072',\n",
       " 'p075',\n",
       " 'p081']"
      ]
     },
     "execution_count": 3,
     "metadata": {},
     "output_type": "execute_result"
    }
   ],
   "source": [
    "# 收集司机id\n",
    "df = pd.read_csv('driver_imgs_list.csv')\n",
    "driver_list = list(df['subject'].unique())\n",
    "driver_list"
   ]
  },
  {
   "cell_type": "code",
   "execution_count": 4,
   "metadata": {},
   "outputs": [],
   "source": [
    "def link(file_name, driver_id_list):\n",
    "    os.mkdir(basedir + file_name)\n",
    "    for i in range(10):\n",
    "        os.mkdir(basedir + file_name + \"/c%d\"%i)\n",
    "    for driver_id in driver_id_list:\n",
    "        df_part = df[df['subject'] == driver_id]\n",
    "        for index, row in df_part.iterrows():\n",
    "            subpath = row[\"classname\"] + \"/\" + row[\"img\"]\n",
    "            src = basedir + \"train/\" + subpath \n",
    "            dst = basedir + file_name + \"/\" + subpath\n",
    "            os.symlink(src, dst)\n",
    "\n",
    "def train_valid_split(group, valid_drivers):\n",
    "    train_drivers = [i for i in driver_list if i not in valid_drivers]\n",
    "    link('train'+str(group), train_drivers)\n",
    "    link('valid'+str(group), valid_drivers)"
   ]
  },
  {
   "cell_type": "code",
   "execution_count": 9,
   "metadata": {},
   "outputs": [],
   "source": [
    "for i in range(5):\n",
    "    train_valid_split(i+1, driver_list[i:5*i])"
   ]
  }
 ],
 "metadata": {
  "kernelspec": {
   "display_name": "Python 3",
   "language": "python",
   "name": "python3"
  },
  "language_info": {
   "codemirror_mode": {
    "name": "ipython",
    "version": 3
   },
   "file_extension": ".py",
   "mimetype": "text/x-python",
   "name": "python",
   "nbconvert_exporter": "python",
   "pygments_lexer": "ipython3",
   "version": "3.6.3"
  }
 },
 "nbformat": 4,
 "nbformat_minor": 2
}
