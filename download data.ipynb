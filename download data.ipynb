{
 "cells": [
  {
   "cell_type": "code",
   "execution_count": null,
   "metadata": {},
   "outputs": [],
   "source": [
    "下载数据\n",
    "\n",
    "#pip install tqdm  \n",
    "\n",
    "from urllib.request import urlretrieve\n",
    "from os.path import isfile, isdir\n",
    "from tqdm import tqdm\n",
    "\n",
    "class DLProgress(tqdm):\n",
    "    last_block = 0\n",
    "\n",
    "    def hook(self, block_num=1, block_size=1, total_size=None):\n",
    "        self.total = total_size\n",
    "        self.update((block_num - self.last_block) * block_size)\n",
    "        self.last_block = block_num\n",
    "\n",
    "if not isfile('imgs.zip'):\n",
    "    with DLProgress(unit='B', unit_scale=True, miniters=1, desc='Dataset') as pbar:\n",
    "        urlretrieve('https://storage.googleapis.com/kaggle-competitions-data/kaggle/5048/imgs.zip?GoogleAccessId=web-data@kaggle-161607.iam.gserviceaccount.com&Expires=1520820856&Signature=mQ%2B4%2FlzJiEch%2BEPbCJMKxjzVxhqBO1bVo%2FMfBQc3wPT3xhLOu1qblIeodOdR2PsO4tiKjs5uhLq%2F5srk7coEAWymbtbz8cx4zX1aJmM5pf98By53%2Bvntk4AE4u9OuevkmjEk5FpHatg%2Fdz%2BH2pavJ08sSg7GC9ACQbncWbK%2BGQh%2B4rKsKBBfn802Y97FLDC2INJl4Fb72t6MO2GMnslUw6lqpSbsK9HmezgDhRzKe1Fy1ter9dEW167iuKN%2Fnzl395sMidWkQ27ePXM5grwNFXYcF0tPXaY6eXq22ifa0n%2BfLKZhdIPUKOC57eRX2QV7J2htmepIIPJNuK4Ivw7ycg%3D%3D', 'pack.zip', pbar.hook)"
   ]
  },
  {
   "cell_type": "code",
   "execution_count": null,
   "metadata": {},
   "outputs": [],
   "source": [
    "#解压\n",
    "\n",
    "import zipfile\n",
    "\n",
    "zf = zipfile.ZipFile('pack.zip' , 'r')\n",
    "zf.extractall('imgs/')\n",
    "zf.close()"
   ]
  },
  {
   "cell_type": "code",
   "execution_count": 1,
   "metadata": {},
   "outputs": [
    {
     "data": {
      "text/plain": [
       "'imgs/Test/test'"
      ]
     },
     "execution_count": 1,
     "metadata": {},
     "output_type": "execute_result"
    }
   ],
   "source": [
    "#移动test文件夹图片\n",
    "\n",
    "import shutil, os\n",
    "\n",
    "os.mkdir('imgs/Test')\n",
    "\n",
    "shutil.move('imgs/test', 'imgs/Test')"
   ]
  }
 ],
 "metadata": {
  "kernelspec": {
   "display_name": "Python 3",
   "language": "python",
   "name": "python3"
  },
  "language_info": {
   "codemirror_mode": {
    "name": "ipython",
    "version": 3
   },
   "file_extension": ".py",
   "mimetype": "text/x-python",
   "name": "python",
   "nbconvert_exporter": "python",
   "pygments_lexer": "ipython3",
   "version": "3.6.3"
  }
 },
 "nbformat": 4,
 "nbformat_minor": 2
}
