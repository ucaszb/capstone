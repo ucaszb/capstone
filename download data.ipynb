{
 "cells": [
  {
   "cell_type": "code",
   "execution_count": 2,
   "metadata": {},
   "outputs": [
    {
     "name": "stdout",
     "output_type": "stream",
     "text": [
      "Requirement already satisfied: tqdm in /home/ubuntu/anaconda3/envs/tensorflow_p36/lib/python3.6/site-packages\r\n"
     ]
    },
    {
     "name": "stderr",
     "output_type": "stream",
     "text": [
      "Dataset: 4.29GB [00:31, 136MB/s]                                \n"
     ]
    }
   ],
   "source": [
    "#下载数据\n",
    "\n",
    "!pip install tqdm  \n",
    "\n",
    "from urllib.request import urlretrieve\n",
    "from os.path import isfile, isdir\n",
    "from tqdm import tqdm\n",
    "\n",
    "class DLProgress(tqdm):\n",
    "    last_block = 0\n",
    "\n",
    "    def hook(self, block_num=1, block_size=1, total_size=None):\n",
    "        self.total = total_size\n",
    "        self.update((block_num - self.last_block) * block_size)\n",
    "        self.last_block = block_num\n",
    "\n",
    "if not isfile('imgs.zip'):\n",
    "    with DLProgress(unit='B', unit_scale=True, miniters=1, desc='Dataset') as pbar:\n",
    "        urlretrieve('https://storage.googleapis.com/kaggle-competitions-data/kaggle/5048/imgs.zip?GoogleAccessId=web-data@kaggle-161607.iam.gserviceaccount.com&Expires=1521168537&Signature=jRTmATeJWm23sJ8tJ3RcZwlQ3TvweUlvdh6adEYiVX7tJmH0U2cEK1l4P7LOFx1mlVn43if3SiLquh9D%2FITQ49JXnj5VTp99CcBGYPi3V64Yv1WSxNIvrLEpd5Zujl5dLn4%2F3cNVoSZNbSqeeGbYlzAo9adX3gyw9iwO%2BXMwATRekchZHKFBChwmM%2B1SdH%2BQR8eKoEtC75qkP4vV3yVa6puobG4HeZK3Kn4QGrullmdzkoVEbyKowKv1SiNqjqQlTdhPxbw8EOn5UoH9PcP3aTaEYjlXJ5sQAQ0%2BczwERutIR1q5JJUjZhUWEfGExY0erTX%2Fyoopk7xOd6pp0dJ8lg%3D%3D', 'pack.zip', pbar.hook)"
   ]
  },
  {
   "cell_type": "code",
   "execution_count": 3,
   "metadata": {},
   "outputs": [],
   "source": [
    "#解压\n",
    "\n",
    "import zipfile\n",
    "\n",
    "zf = zipfile.ZipFile('pack.zip' , 'r')\n",
    "zf.extractall('imgs/')\n",
    "zf.close()"
   ]
  },
  {
   "cell_type": "code",
   "execution_count": 4,
   "metadata": {},
   "outputs": [
    {
     "data": {
      "text/plain": [
       "'imgs/Test/test'"
      ]
     },
     "execution_count": 4,
     "metadata": {},
     "output_type": "execute_result"
    }
   ],
   "source": [
    "#移动test文件夹图片\n",
    "\n",
    "import shutil, os\n",
    "\n",
    "os.mkdir('imgs/Test')\n",
    "\n",
    "shutil.move('imgs/test', 'imgs/Test')"
   ]
  },
  {
   "cell_type": "code",
   "execution_count": null,
   "metadata": {},
   "outputs": [],
   "source": []
  }
 ],
 "metadata": {
  "kernelspec": {
   "display_name": "Environment (conda_tensorflow_p36)",
   "language": "python",
   "name": "conda_tensorflow_p36"
  },
  "language_info": {
   "codemirror_mode": {
    "name": "ipython",
    "version": 3
   },
   "file_extension": ".py",
   "mimetype": "text/x-python",
   "name": "python",
   "nbconvert_exporter": "python",
   "pygments_lexer": "ipython3",
   "version": "3.6.4"
  }
 },
 "nbformat": 4,
 "nbformat_minor": 2
}
